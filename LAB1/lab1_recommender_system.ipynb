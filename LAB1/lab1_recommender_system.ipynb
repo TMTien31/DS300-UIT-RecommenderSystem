{
 "cells": [
  {
   "cell_type": "markdown",
   "metadata": {
    "id": "3Vj61I-8d5FD"
   },
   "source": [
    "*note:\n",
    "- Các bạn sinh viên làm lại trên cả hai bộ dữ liệu movie và book\n",
    "- Tải cái notebook này về rồi up lên drive của các bạn sài nhé, đừng có ghi trực tiếp lên file của Thầy\n",
    "\n",
    "Tên:\n",
    "\n",
    "MSSV:\n",
    "\n"
   ]
  },
  {
   "cell_type": "code",
   "execution_count": null,
   "metadata": {
    "colab": {
     "base_uri": "https://localhost:8080/"
    },
    "executionInfo": {
     "elapsed": 31822,
     "status": "ok",
     "timestamp": 1695711529666,
     "user": {
      "displayName": "Tuệ Nguyễn Minh",
      "userId": "13186270743455389771"
     },
     "user_tz": -420
    },
    "id": "-Ovvd-dnDBN1",
    "outputId": "58fdf49b-e53b-4569-8503-e0ba475c3ea5"
   },
   "outputs": [
    {
     "name": "stdout",
     "output_type": "stream",
     "text": [
      "Mounted at /content/drive\n"
     ]
    }
   ],
   "source": [
    "23521587"
   ]
  },
  {
   "cell_type": "code",
   "execution_count": null,
   "metadata": {
    "id": "LKkyIxaoR8D9"
   },
   "outputs": [],
   "source": [
    "# import bs4 \n",
    "# import requests\n",
    "# import re\n",
    "# import underthesea \n"
   ]
  },
  {
   "cell_type": "markdown",
   "metadata": {
    "id": "R5-R2kLSwtN0"
   },
   "source": [
    "#movie\n"
   ]
  },
  {
   "cell_type": "code",
   "execution_count": null,
   "metadata": {
    "id": "84jHC3orScdH"
   },
   "outputs": [],
   "source": []
  },
  {
   "cell_type": "code",
   "execution_count": null,
   "metadata": {
    "id": "tBALEnDZebon"
   },
   "outputs": [],
   "source": [
    "# load dữ liệu từ file ratings, movies"
   ]
  },
  {
   "cell_type": "code",
   "execution_count": null,
   "metadata": {
    "id": "i6d9fPDSebsm"
   },
   "outputs": [],
   "source": []
  },
  {
   "cell_type": "code",
   "execution_count": null,
   "metadata": {
    "id": "juFloAdYebwk"
   },
   "outputs": [],
   "source": [
    "# xem 1 cột trên file ratings\n"
   ]
  },
  {
   "cell_type": "code",
   "execution_count": null,
   "metadata": {
    "id": "_Wab_7bST71s"
   },
   "outputs": [],
   "source": [
    "# xem nhiều cột trên file ratings\n"
   ]
  },
  {
   "cell_type": "code",
   "execution_count": null,
   "metadata": {
    "id": "0tBQeHCzebze"
   },
   "outputs": [],
   "source": [
    "# chọn ra các lượt rating > 3.5\n"
   ]
  },
  {
   "cell_type": "code",
   "execution_count": null,
   "metadata": {
    "id": "SDtW28-cULC5"
   },
   "outputs": [],
   "source": [
    "# chọn ra các lượt rating cho bộ phim có id = 100\n"
   ]
  },
  {
   "cell_type": "code",
   "execution_count": null,
   "metadata": {
    "id": "WHpq5DjyUNgY"
   },
   "outputs": [],
   "source": [
    "# chọn ra các lượt rating của user có id là 350\n"
   ]
  },
  {
   "cell_type": "code",
   "execution_count": null,
   "metadata": {
    "id": "QdV3SMVfloSr"
   },
   "outputs": [],
   "source": [
    "# Thêm một cột \"birthday\" vào dataframe ratings với giá trị ngẫu nhiên cho từng hàng là 1960 đến 2010\n"
   ]
  },
  {
   "cell_type": "code",
   "execution_count": null,
   "metadata": {
    "id": "JZnly-tCloUW"
   },
   "outputs": [],
   "source": [
    "# thêm côt \"is_old\" vào dataframe ratings với giá trị True nếu năm <1990 và false nếu ngược lại\n"
   ]
  },
  {
   "cell_type": "code",
   "execution_count": null,
   "metadata": {
    "id": "NhqAVoVGloVm"
   },
   "outputs": [],
   "source": [
    "# Xoá hai cột vừa tạo ở trên\n"
   ]
  },
  {
   "cell_type": "code",
   "execution_count": null,
   "metadata": {
    "id": "OdvNpc-2loZD"
   },
   "outputs": [],
   "source": [
    "# đếm số lượng rating cho từng giá trị rating 0.5 -> 5\n"
   ]
  },
  {
   "cell_type": "code",
   "execution_count": null,
   "metadata": {
    "id": "pgUd7xU3ay36"
   },
   "outputs": [],
   "source": [
    "# Vẽ biểu đồ cột thể hiện số lượng cho từng giá trị ratings trên\n"
   ]
  },
  {
   "cell_type": "code",
   "execution_count": null,
   "metadata": {
    "id": "AgOCqAMMn_PR"
   },
   "outputs": [],
   "source": [
    "# sắp xếp danh sách ratings theo chiều tăng dần, giảm dần theo giá trị rating\n"
   ]
  },
  {
   "cell_type": "code",
   "execution_count": null,
   "metadata": {
    "id": "DpRIYzbvn_RR"
   },
   "outputs": [],
   "source": [
    "# đếm xem có bao nhiều người tham gia đánh giá\n"
   ]
  },
  {
   "cell_type": "code",
   "execution_count": null,
   "metadata": {
    "id": "-jgHeShZVMaz"
   },
   "outputs": [],
   "source": [
    "# Đếm xem có bao nhiêu bộ phim được đánh giá\n"
   ]
  },
  {
   "cell_type": "code",
   "execution_count": null,
   "metadata": {
    "id": "LGYU0T89VKFz"
   },
   "outputs": [],
   "source": [
    "# Tính xem trung bình mỗi người rating bao nhiêu bộ phim\n"
   ]
  },
  {
   "cell_type": "code",
   "execution_count": null,
   "metadata": {
    "id": "Bmhs2SP0VJm-"
   },
   "outputs": [],
   "source": [
    "# Tính xem mỗi bộ phim có bao nhiêu lượt rating\n"
   ]
  },
  {
   "cell_type": "code",
   "execution_count": null,
   "metadata": {
    "id": "86XtRaxRn_Sp"
   },
   "outputs": [],
   "source": [
    "# groupby bảng ratings theo \"movieId\" và tính rating trung bình cho từng bộ phim\n"
   ]
  },
  {
   "cell_type": "code",
   "execution_count": null,
   "metadata": {
    "id": "Em_Z4uFjn_Ua"
   },
   "outputs": [],
   "source": [
    "# Tìm tên 5 bộ phim có rating trung bình thấp nhất\n"
   ]
  },
  {
   "cell_type": "code",
   "execution_count": null,
   "metadata": {
    "id": "YvX6X5GtdWeA"
   },
   "outputs": [],
   "source": [
    "# Tìm tên 5 bộ phim có rating trung bình cao nhất\n"
   ]
  },
  {
   "cell_type": "code",
   "execution_count": null,
   "metadata": {
    "id": "GaNNXdTrdWf4"
   },
   "outputs": [],
   "source": [
    "# merge bảng ratings, và movies theo cột \"movieID\"\n"
   ]
  },
  {
   "cell_type": "code",
   "execution_count": null,
   "metadata": {
    "id": "aZ_mulDOdWg4"
   },
   "outputs": [],
   "source": [
    "# Chuyển bảng ratings sang dataframe với các cột là \"userId\" và các hàng là \"movieId\" (*)\n"
   ]
  },
  {
   "cell_type": "code",
   "execution_count": null,
   "metadata": {
    "id": "RjDW0jfqdWit"
   },
   "outputs": [],
   "source": [
    "# chuyển (*) sang numpy.ndarray (như ma trân rating) (**)\n"
   ]
  },
  {
   "cell_type": "code",
   "execution_count": null,
   "metadata": {
    "id": "WG-K9wPodWkB"
   },
   "outputs": [],
   "source": [
    "# Nhân ma ma trận trên với 2\n"
   ]
  },
  {
   "cell_type": "code",
   "execution_count": null,
   "metadata": {
    "id": "cvAzgIQVWVUV"
   },
   "outputs": [],
   "source": [
    "# Cộng ma ma trận trên với 3\n"
   ]
  },
  {
   "cell_type": "code",
   "execution_count": null,
   "metadata": {
    "id": "WC8LYPN9dWl_"
   },
   "outputs": [],
   "source": [
    "# lấy ra dòng đầu tiên trong (*) và chuyển sang numpy.ndarray (như vector cho movieId = 1)\n"
   ]
  },
  {
   "cell_type": "code",
   "execution_count": null,
   "metadata": {
    "id": "_3p5epa0WabW"
   },
   "outputs": [],
   "source": [
    "# lấy ra dòng thứ 2 trong (*) và chuyển sang numpy.ndarray (như vector cho movieId = 2)\n"
   ]
  },
  {
   "cell_type": "code",
   "execution_count": null,
   "metadata": {
    "id": "eF5shqpGWbSP"
   },
   "outputs": [],
   "source": [
    "# tính tích vô hướng của hai vector trên\n"
   ]
  },
  {
   "cell_type": "code",
   "execution_count": null,
   "metadata": {
    "id": "P6jwxGqLgX3w"
   },
   "outputs": [],
   "source": [
    "# tính giá trị cosine giữa hai vector trên\n"
   ]
  },
  {
   "cell_type": "code",
   "execution_count": null,
   "metadata": {
    "id": "xnfsl6b9gnen"
   },
   "outputs": [],
   "source": [
    "# tích của vector movieId = 1 với ma trận (**)\n"
   ]
  },
  {
   "cell_type": "markdown",
   "metadata": {
    "id": "1U8d_U_p5s63"
   },
   "source": [
    "# Book dataset"
   ]
  },
  {
   "cell_type": "code",
   "execution_count": null,
   "metadata": {
    "id": "9UkSLzes4eZr"
   },
   "outputs": [],
   "source": [
    "# load dữ liệu từ file ratings, books\n"
   ]
  },
  {
   "cell_type": "code",
   "execution_count": null,
   "metadata": {
    "id": "CX_hSt7C4h_9"
   },
   "outputs": [],
   "source": [
    "# xem thông tin file ratings\n"
   ]
  },
  {
   "cell_type": "code",
   "execution_count": null,
   "metadata": {
    "id": "-azV8esO4iDT"
   },
   "outputs": [],
   "source": [
    "# xem 1 cột \"User-ID\" trên file ratings\n"
   ]
  },
  {
   "cell_type": "code",
   "execution_count": null,
   "metadata": {
    "id": "z2Z0wIciXpHk"
   },
   "outputs": [],
   "source": [
    "# xem cột \"ISBN\" và \"Book-Rating\" trên file ratings\n"
   ]
  },
  {
   "cell_type": "code",
   "execution_count": null,
   "metadata": {
    "id": "E2ntpm_54iE6"
   },
   "outputs": [],
   "source": [
    "# chọn ra các lượt rating > 5\n"
   ]
  },
  {
   "cell_type": "code",
   "execution_count": null,
   "metadata": {
    "id": "vGAU1w0YXzlW"
   },
   "outputs": [],
   "source": [
    "# chọn ra các lượt rating cho cuốn sách có id = 440414121\n"
   ]
  },
  {
   "cell_type": "code",
   "execution_count": null,
   "metadata": {
    "id": "RJSTSaUdX0hp"
   },
   "outputs": [],
   "source": [
    "# chọn ra các lượt rating của user có id là 276848\n"
   ]
  },
  {
   "cell_type": "code",
   "execution_count": null,
   "metadata": {
    "id": "0oELTcCI4iIR"
   },
   "outputs": [],
   "source": [
    "# thêm côt \"is_new\" vào dataframe ratings với giá trị True nếu Year-Of-Publication > 2000 và false nếu ngược lại\n"
   ]
  },
  {
   "cell_type": "code",
   "execution_count": null,
   "metadata": {
    "id": "LKgyisJo4iJq"
   },
   "outputs": [],
   "source": [
    "# Xoá cột vừa tạo ở trên\n"
   ]
  },
  {
   "cell_type": "code",
   "execution_count": null,
   "metadata": {
    "id": "oJUW33854iMJ"
   },
   "outputs": [],
   "source": [
    "# đếm số lượng rating cho từng giá trị rating 0.5 -> 10\n"
   ]
  },
  {
   "cell_type": "code",
   "execution_count": null,
   "metadata": {
    "id": "5pSFoQ-O4iOr"
   },
   "outputs": [],
   "source": [
    "# Vẽ biểu đồ cột thể hiện số lượng cho từng giá trị ratings trên\n"
   ]
  },
  {
   "cell_type": "code",
   "execution_count": null,
   "metadata": {
    "id": "GNXKMtrS4iQr"
   },
   "outputs": [],
   "source": [
    "# sắp xếp danh sách ratings theo chiều tăng dần, giảm dần theo giá trị rating\n"
   ]
  },
  {
   "cell_type": "code",
   "execution_count": null,
   "metadata": {
    "id": "YoNm-Rby6c_9"
   },
   "outputs": [],
   "source": [
    "# đếm xem có bao nhiều người tham gia đánh giá\n",
    "# Đếm xem có bao nhiêu cuốn sách được đánh giá\n",
    "# Tính xem trung bình mỗi người rating bao nhiêu cuốn sách\n",
    "# Tính xem mỗi bộ phim có bao nhiêu lượt rating"
   ]
  },
  {
   "cell_type": "code",
   "execution_count": null,
   "metadata": {
    "id": "TcDVEsPD6dCd"
   },
   "outputs": [],
   "source": [
    "# groupby bảng ratings theo \"ISBN\" và tính rating trung bình cho từng cuốn sách"
   ]
  },
  {
   "cell_type": "code",
   "execution_count": null,
   "metadata": {
    "id": "tzKAbh9b6dEx"
   },
   "outputs": [],
   "source": [
    "# Tìm tên 10 cuốn sách có rating trung bình thấp nhất"
   ]
  },
  {
   "cell_type": "code",
   "execution_count": null,
   "metadata": {
    "id": "gknjs4uY6dHD"
   },
   "outputs": [],
   "source": [
    "# Tìm tên 10 cuốn sách có rating trung bình cao nhất"
   ]
  },
  {
   "cell_type": "code",
   "execution_count": null,
   "metadata": {
    "id": "AC7tHrWO6lha"
   },
   "outputs": [],
   "source": [
    "# merge bảng ratings, và books theo cột \"ISBN\""
   ]
  },
  {
   "cell_type": "code",
   "execution_count": null,
   "metadata": {
    "id": "B7YpxB2o6lrU"
   },
   "outputs": [],
   "source": [
    "# Chuyển bảng ratings sang dataframe với các cột là \"User-ID\" và các hàng là \"ISBN\" (*)"
   ]
  },
  {
   "cell_type": "code",
   "execution_count": null,
   "metadata": {
    "id": "n2rf7JlF6ltk"
   },
   "outputs": [],
   "source": [
    "# chuyển (*) sang numpy.ndarray (như ma trân rating) (**)"
   ]
  },
  {
   "cell_type": "code",
   "execution_count": null,
   "metadata": {
    "id": "IDB01CJZ6lwY"
   },
   "outputs": [],
   "source": [
    "# Nhân ma ma trận trên với 2.5\n",
    "# Cộng ma ma trận trên với 1"
   ]
  },
  {
   "cell_type": "code",
   "execution_count": null,
   "metadata": {
    "id": "uNk0lzKC6lx5"
   },
   "outputs": [],
   "source": [
    "# lấy ra dòng đầu tiên trong (*) và chuyển sang numpy.ndarray (như vector cho ISBN = 034545104X)\n",
    "# lấy ra dòng thứ 2 trong (*) và chuyển sang numpy.ndarray (như vector cho ISBN = 155061224)\n",
    "# tính tích vô hướng của hai vector trên"
   ]
  },
  {
   "cell_type": "code",
   "execution_count": null,
   "metadata": {
    "id": "bUQXsniG7AIx"
   },
   "outputs": [],
   "source": [
    "# tính giá trị cosine giữa hai vector trên"
   ]
  },
  {
   "cell_type": "code",
   "execution_count": null,
   "metadata": {
    "id": "2aG-o4UM7AKs"
   },
   "outputs": [],
   "source": [
    "# tích của vector ISBN = 155061224 với ma trận (**)"
   ]
  }
 ],
 "metadata": {
  "colab": {
   "provenance": []
  },
  "kernelspec": {
   "display_name": "Python 3",
   "name": "python3"
  },
  "language_info": {
   "name": "python"
  }
 },
 "nbformat": 4,
 "nbformat_minor": 0
}
