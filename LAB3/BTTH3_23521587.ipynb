{
 "cells": [
  {
   "cell_type": "markdown",
   "metadata": {
    "id": "Yh3rVT7oBfqx"
   },
   "source": [
    "- Họ tên SV: Trần Minh Tiến\n",
    "- MSSV: 23521587\n",
    "- Yêu cầu: hoàn thành các phần code thiếu: #code here"
   ]
  },
  {
   "cell_type": "code",
   "execution_count": null,
   "metadata": {
    "colab": {
     "base_uri": "https://localhost:8080/"
    },
    "id": "PX0myxiIx1x4",
    "outputId": "895f00fa-6012-4132-eaf1-38cd8021b7b8"
   },
   "outputs": [
    {
     "name": "stdout",
     "output_type": "stream",
     "text": [
      "Drive already mounted at /content/drive; to attempt to forcibly remount, call drive.mount(\"/content/drive\", force_remount=True).\n"
     ]
    }
   ],
   "source": [
    "# from google.colab import drive\n",
    "# drive.mount('/content/drive')"
   ]
  },
  {
   "cell_type": "code",
   "execution_count": 76,
   "metadata": {
    "id": "gvnqCGSox4Io"
   },
   "outputs": [],
   "source": [
    "#importing necessary libraries\n",
    "import numpy as np\n",
    "import pandas as pd\n",
    "# thêm thư viện TfidfVectorizer\n",
    "#core here\n",
    "from sklearn.feature_extraction.text import TfidfVectorizer\n",
    "#thêm thư viện linear_kernel\n",
    "#core here\n",
    "from sklearn.metrics.pairwise import linear_kernel\n"
   ]
  },
  {
   "cell_type": "code",
   "execution_count": 81,
   "metadata": {
    "id": "EFsWP1y43FOa"
   },
   "outputs": [],
   "source": [
    "#Load dữ liệu movies_metadata.csv\n",
    "#code here\n",
    "# movies = ?\n",
    "\n",
    "movies = pd.read_csv('movies/movies_metadata.csv', low_memory=False)\n"
   ]
  },
  {
   "cell_type": "code",
   "execution_count": 82,
   "metadata": {
    "id": "SRazSGTd3FQa"
   },
   "outputs": [
    {
     "name": "stdout",
     "output_type": "stream",
     "text": [
      "                                            overview\n",
      "0  Led by Woody, Andy's toys live happily in his ...\n",
      "1  When siblings Judy and Peter discover an encha...\n",
      "2  A family wedding reignites the ancient feud be...\n",
      "3  Cheated on, mistreated and stepped on, the wom...\n",
      "4  Just when George Banks has recovered from his ...\n"
     ]
    }
   ],
   "source": [
    "#xuất ra overview của 5 bộ phim đầu tiên\n",
    "#code here\n",
    "\n",
    "print(movies[['overview']].head(5))"
   ]
  },
  {
   "cell_type": "code",
   "execution_count": 83,
   "metadata": {
    "id": "FUIHAQyP3FRy"
   },
   "outputs": [
    {
     "data": {
      "text/plain": [
       "0    led by woody, andy's toys live happily in his ...\n",
       "1    when siblings judy and peter discover an encha...\n",
       "2    a family wedding reignites the ancient feud be...\n",
       "3    cheated on, mistreated and stepped on, the wom...\n",
       "4    just when george banks has recovered from his ...\n",
       "Name: overview, dtype: object"
      ]
     },
     "execution_count": 83,
     "metadata": {},
     "output_type": "execute_result"
    }
   ],
   "source": [
    "# viết hàm tiền xử lý dữ liệu trên cột overview\n",
    "#  - chuyển về từ thường\n",
    "#  - Xóa dấu câu, ký tự đặc biệt\n",
    "#  - xóa stopword\n",
    "#  - tách từ\n",
    "#  ...\n",
    "#code here\n",
    "\n",
    "import re\n",
    "\n",
    "def preprocess_overview(text):\n",
    "    text = str(text).lower()\n",
    "    return text\n",
    "\n",
    "# Áp dụng tiền xử lý\n",
    "movies['overview'] = movies['overview'].apply(preprocess_overview)\n",
    "movies['overview'] = movies['overview'].fillna('')\n",
    "\n",
    "movies['overview'].head(5)"
   ]
  },
  {
   "cell_type": "code",
   "execution_count": 84,
   "metadata": {
    "id": "FO12YM6JVNfB"
   },
   "outputs": [
    {
     "data": {
      "text/plain": [
       "(45466, 75827)"
      ]
     },
     "execution_count": 84,
     "metadata": {},
     "output_type": "execute_result"
    }
   ],
   "source": [
    "#sử dụng TfidfVectorizer để chuyển cột overview của các bộ phim về tf-idf và lưu vào biến overview_matrix\n",
    "# code here\n",
    "\n",
    "tfidf = TfidfVectorizer(stop_words='english')\n",
    "overview_matrix = tfidf.fit_transform(movies['overview'])\n",
    "\n",
    "# Lưu vectorizer nếu cần sau này\n",
    "# import pickle\n",
    "# pickle.dump(tfidf, open('tfidf_overview.pkl', 'wb'))\n",
    "\n",
    "overview_matrix.shape"
   ]
  },
  {
   "cell_type": "code",
   "execution_count": 85,
   "metadata": {
    "id": "_5Ufw0dLWyhP"
   },
   "outputs": [
    {
     "name": "stdout",
     "output_type": "stream",
     "text": [
      "overview_matrix.shape = (45466, 75827)\n"
     ]
    }
   ],
   "source": [
    "# in ra shape của overview_matrix nếu = (45466, 75827) là đúng.\n",
    "#code here\n",
    "\n",
    "print('overview_matrix.shape =', overview_matrix.shape)"
   ]
  },
  {
   "cell_type": "code",
   "execution_count": 86,
   "metadata": {
    "id": "wGUavQ3y3FTB"
   },
   "outputs": [
    {
     "ename": "MemoryError",
     "evalue": "Unable to allocate 15.4 GiB for an array with shape (45466, 45466) and data type float64",
     "output_type": "error",
     "traceback": [
      "\u001b[31m---------------------------------------------------------------------------\u001b[39m",
      "\u001b[31mMemoryError\u001b[39m                               Traceback (most recent call last)",
      "\u001b[36mCell\u001b[39m\u001b[36m \u001b[39m\u001b[32mIn[86]\u001b[39m\u001b[32m, line 2\u001b[39m\n\u001b[32m      1\u001b[39m \u001b[38;5;66;03m# Tính toán cosine similarity giữa các bộ phim bằng linear_kernel\u001b[39;00m\n\u001b[32m----> \u001b[39m\u001b[32m2\u001b[39m cosine_sim = \u001b[43mlinear_kernel\u001b[49m\u001b[43m(\u001b[49m\u001b[43moverview_matrix\u001b[49m\u001b[43m,\u001b[49m\u001b[43m \u001b[49m\u001b[43moverview_matrix\u001b[49m\u001b[43m)\u001b[49m\n\u001b[32m      4\u001b[39m \u001b[38;5;66;03m# Ví dụ: cosine_sim[i] là vector similarity của phim i với tất cả phim khác\u001b[39;00m\n",
      "\u001b[36mFile \u001b[39m\u001b[32me:\\DS300-UIT-RecommenderSystem\\DS300-venv\\Lib\\site-packages\\sklearn\\utils\\_param_validation.py:218\u001b[39m, in \u001b[36mvalidate_params.<locals>.decorator.<locals>.wrapper\u001b[39m\u001b[34m(*args, **kwargs)\u001b[39m\n\u001b[32m    212\u001b[39m \u001b[38;5;28;01mtry\u001b[39;00m:\n\u001b[32m    213\u001b[39m     \u001b[38;5;28;01mwith\u001b[39;00m config_context(\n\u001b[32m    214\u001b[39m         skip_parameter_validation=(\n\u001b[32m    215\u001b[39m             prefer_skip_nested_validation \u001b[38;5;129;01mor\u001b[39;00m global_skip_validation\n\u001b[32m    216\u001b[39m         )\n\u001b[32m    217\u001b[39m     ):\n\u001b[32m--> \u001b[39m\u001b[32m218\u001b[39m         \u001b[38;5;28;01mreturn\u001b[39;00m \u001b[43mfunc\u001b[49m\u001b[43m(\u001b[49m\u001b[43m*\u001b[49m\u001b[43margs\u001b[49m\u001b[43m,\u001b[49m\u001b[43m \u001b[49m\u001b[43m*\u001b[49m\u001b[43m*\u001b[49m\u001b[43mkwargs\u001b[49m\u001b[43m)\u001b[49m\n\u001b[32m    219\u001b[39m \u001b[38;5;28;01mexcept\u001b[39;00m InvalidParameterError \u001b[38;5;28;01mas\u001b[39;00m e:\n\u001b[32m    220\u001b[39m     \u001b[38;5;66;03m# When the function is just a wrapper around an estimator, we allow\u001b[39;00m\n\u001b[32m    221\u001b[39m     \u001b[38;5;66;03m# the function to delegate validation to the estimator, but we replace\u001b[39;00m\n\u001b[32m    222\u001b[39m     \u001b[38;5;66;03m# the name of the estimator by the name of the function in the error\u001b[39;00m\n\u001b[32m    223\u001b[39m     \u001b[38;5;66;03m# message to avoid confusion.\u001b[39;00m\n\u001b[32m    224\u001b[39m     msg = re.sub(\n\u001b[32m    225\u001b[39m         \u001b[33mr\u001b[39m\u001b[33m\"\u001b[39m\u001b[33mparameter of \u001b[39m\u001b[33m\\\u001b[39m\u001b[33mw+ must be\u001b[39m\u001b[33m\"\u001b[39m,\n\u001b[32m    226\u001b[39m         \u001b[33mf\u001b[39m\u001b[33m\"\u001b[39m\u001b[33mparameter of \u001b[39m\u001b[38;5;132;01m{\u001b[39;00mfunc.\u001b[34m__qualname__\u001b[39m\u001b[38;5;132;01m}\u001b[39;00m\u001b[33m must be\u001b[39m\u001b[33m\"\u001b[39m,\n\u001b[32m    227\u001b[39m         \u001b[38;5;28mstr\u001b[39m(e),\n\u001b[32m    228\u001b[39m     )\n",
      "\u001b[36mFile \u001b[39m\u001b[32me:\\DS300-UIT-RecommenderSystem\\DS300-venv\\Lib\\site-packages\\sklearn\\metrics\\pairwise.py:1423\u001b[39m, in \u001b[36mlinear_kernel\u001b[39m\u001b[34m(X, Y, dense_output)\u001b[39m\n\u001b[32m   1389\u001b[39m \u001b[38;5;250m\u001b[39m\u001b[33;03m\"\"\"\u001b[39;00m\n\u001b[32m   1390\u001b[39m \u001b[33;03mCompute the linear kernel between X and Y.\u001b[39;00m\n\u001b[32m   1391\u001b[39m \n\u001b[32m   (...)\u001b[39m\u001b[32m   1420\u001b[39m \u001b[33;03m       [1., 2.]])\u001b[39;00m\n\u001b[32m   1421\u001b[39m \u001b[33;03m\"\"\"\u001b[39;00m\n\u001b[32m   1422\u001b[39m X, Y = check_pairwise_arrays(X, Y)\n\u001b[32m-> \u001b[39m\u001b[32m1423\u001b[39m \u001b[38;5;28;01mreturn\u001b[39;00m \u001b[43msafe_sparse_dot\u001b[49m\u001b[43m(\u001b[49m\u001b[43mX\u001b[49m\u001b[43m,\u001b[49m\u001b[43m \u001b[49m\u001b[43mY\u001b[49m\u001b[43m.\u001b[49m\u001b[43mT\u001b[49m\u001b[43m,\u001b[49m\u001b[43m \u001b[49m\u001b[43mdense_output\u001b[49m\u001b[43m=\u001b[49m\u001b[43mdense_output\u001b[49m\u001b[43m)\u001b[49m\n",
      "\u001b[36mFile \u001b[39m\u001b[32me:\\DS300-UIT-RecommenderSystem\\DS300-venv\\Lib\\site-packages\\sklearn\\utils\\extmath.py:211\u001b[39m, in \u001b[36msafe_sparse_dot\u001b[39m\u001b[34m(a, b, dense_output)\u001b[39m\n\u001b[32m    203\u001b[39m     ret = a @ b\n\u001b[32m    205\u001b[39m \u001b[38;5;28;01mif\u001b[39;00m (\n\u001b[32m    206\u001b[39m     sparse.issparse(a)\n\u001b[32m    207\u001b[39m     \u001b[38;5;129;01mand\u001b[39;00m sparse.issparse(b)\n\u001b[32m    208\u001b[39m     \u001b[38;5;129;01mand\u001b[39;00m dense_output\n\u001b[32m    209\u001b[39m     \u001b[38;5;129;01mand\u001b[39;00m \u001b[38;5;28mhasattr\u001b[39m(ret, \u001b[33m\"\u001b[39m\u001b[33mtoarray\u001b[39m\u001b[33m\"\u001b[39m)\n\u001b[32m    210\u001b[39m ):\n\u001b[32m--> \u001b[39m\u001b[32m211\u001b[39m     \u001b[38;5;28;01mreturn\u001b[39;00m \u001b[43mret\u001b[49m\u001b[43m.\u001b[49m\u001b[43mtoarray\u001b[49m\u001b[43m(\u001b[49m\u001b[43m)\u001b[49m\n\u001b[32m    212\u001b[39m \u001b[38;5;28;01mreturn\u001b[39;00m ret\n",
      "\u001b[36mFile \u001b[39m\u001b[32me:\\DS300-UIT-RecommenderSystem\\DS300-venv\\Lib\\site-packages\\scipy\\sparse\\_compressed.py:996\u001b[39m, in \u001b[36m_cs_matrix.toarray\u001b[39m\u001b[34m(self, order, out)\u001b[39m\n\u001b[32m    994\u001b[39m \u001b[38;5;28;01mif\u001b[39;00m out \u001b[38;5;129;01mis\u001b[39;00m \u001b[38;5;28;01mNone\u001b[39;00m \u001b[38;5;129;01mand\u001b[39;00m order \u001b[38;5;129;01mis\u001b[39;00m \u001b[38;5;28;01mNone\u001b[39;00m:\n\u001b[32m    995\u001b[39m     order = \u001b[38;5;28mself\u001b[39m._swap(\u001b[33m'\u001b[39m\u001b[33mcf\u001b[39m\u001b[33m'\u001b[39m)[\u001b[32m0\u001b[39m]\n\u001b[32m--> \u001b[39m\u001b[32m996\u001b[39m out = \u001b[38;5;28;43mself\u001b[39;49m\u001b[43m.\u001b[49m\u001b[43m_process_toarray_args\u001b[49m\u001b[43m(\u001b[49m\u001b[43morder\u001b[49m\u001b[43m,\u001b[49m\u001b[43m \u001b[49m\u001b[43mout\u001b[49m\u001b[43m)\u001b[49m\n\u001b[32m    997\u001b[39m \u001b[38;5;28;01mif\u001b[39;00m \u001b[38;5;129;01mnot\u001b[39;00m (out.flags.c_contiguous \u001b[38;5;129;01mor\u001b[39;00m out.flags.f_contiguous):\n\u001b[32m    998\u001b[39m     \u001b[38;5;28;01mraise\u001b[39;00m \u001b[38;5;167;01mValueError\u001b[39;00m(\u001b[33m'\u001b[39m\u001b[33mOutput array must be C or F contiguous\u001b[39m\u001b[33m'\u001b[39m)\n",
      "\u001b[36mFile \u001b[39m\u001b[32me:\\DS300-UIT-RecommenderSystem\\DS300-venv\\Lib\\site-packages\\scipy\\sparse\\_base.py:1530\u001b[39m, in \u001b[36m_spbase._process_toarray_args\u001b[39m\u001b[34m(self, order, out)\u001b[39m\n\u001b[32m   1528\u001b[39m     \u001b[38;5;28;01mreturn\u001b[39;00m out\n\u001b[32m   1529\u001b[39m \u001b[38;5;28;01melse\u001b[39;00m:\n\u001b[32m-> \u001b[39m\u001b[32m1530\u001b[39m     \u001b[38;5;28;01mreturn\u001b[39;00m \u001b[43mnp\u001b[49m\u001b[43m.\u001b[49m\u001b[43mzeros\u001b[49m\u001b[43m(\u001b[49m\u001b[38;5;28;43mself\u001b[39;49m\u001b[43m.\u001b[49m\u001b[43mshape\u001b[49m\u001b[43m,\u001b[49m\u001b[43m \u001b[49m\u001b[43mdtype\u001b[49m\u001b[43m=\u001b[49m\u001b[38;5;28;43mself\u001b[39;49m\u001b[43m.\u001b[49m\u001b[43mdtype\u001b[49m\u001b[43m,\u001b[49m\u001b[43m \u001b[49m\u001b[43morder\u001b[49m\u001b[43m=\u001b[49m\u001b[43morder\u001b[49m\u001b[43m)\u001b[49m\n",
      "\u001b[31mMemoryError\u001b[39m: Unable to allocate 15.4 GiB for an array with shape (45466, 45466) and data type float64"
     ]
    }
   ],
   "source": [
    "# Tính toán cosine similarity giữa các bộ phim bằng linear_kernel\n",
    "cosine_sim = linear_kernel(overview_matrix, overview_matrix)\n",
    "\n",
    "# Ví dụ: cosine_sim[i] là vector similarity của phim i với tất cả phim khác"
   ]
  },
  {
   "cell_type": "code",
   "execution_count": null,
   "metadata": {
    "id": "VVYEYN4ux4J8"
   },
   "outputs": [],
   "source": [
    "#đánh index cho các bộ phim bằng  pd.Series() và lưu trong biến mapping\n",
    "#code here\n",
    "\n",
    "mapping = pd.Series(movies.index, index=movies['title'].astype(str)).drop_duplicates()\n",
    "mapping[:5]"
   ]
  },
  {
   "cell_type": "code",
   "execution_count": null,
   "metadata": {
    "id": "zaQUZ97nBxbJ"
   },
   "outputs": [],
   "source": [
    "#viết hàm nhận vào index của bộ phim trả về tên của bộ phim\n",
    "#code here\n",
    "\n",
    "def get_title_from_index(index):\n",
    "    try:\n",
    "        return movies.loc[index, 'title']\n",
    "    except Exception:\n",
    "        return None\n",
    "\n",
    "# Hoặc lấy index từ title:\n",
    "def get_index_from_title(title):\n",
    "    try:\n",
    "        return int(mapping[title])\n",
    "    except Exception:\n",
    "        return None"
   ]
  },
  {
   "cell_type": "code",
   "execution_count": null,
   "metadata": {
    "id": "xYDehga0x4Lh"
   },
   "outputs": [],
   "source": [
    "#viết hàm trả và top 10 bộ phim sẽ đem đi khuyến nghị cho người dùng U. Người dung U đ\n",
    "\n",
    "def recommend_movies_for_user(title_watched, top_n=10):\n",
    "    # Lấy index phim đã xem\n",
    "    idx = get_index_from_title(title_watched)\n",
    "    if idx is None:\n",
    "        raise ValueError(f'Không tìm thấy phim: {title_watched}')\n",
    "\n",
    "    # Lấy danh sách tuples (index, similarity)\n",
    "    sim_scores = list(enumerate(cosine_sim[idx]))\n",
    "    # Sắp xếp theo similarity giảm dần\n",
    "    sim_scores = sorted(sim_scores, key=lambda x: x[1], reverse=True)\n",
    "\n",
    "    # Bỏ qua chính phim đã xem (xứng với idx ở vị trí đầu)\n",
    "    sim_scores = [s for s in sim_scores if s[0] != idx]\n",
    "\n",
    "    # Lấy top N\n",
    "    top_indices = [i for i, _ in sim_scores[:top_n]]\n",
    "\n",
    "    # Trả về DataFrame các phim khuyến nghị\n",
    "    return movies.loc[top_indices, ['title', 'overview']].reset_index(drop=True)\n",
    "\n",
    "# Ví dụ sử dụng\n",
    "watched = 'Father of the Bride Part II'\n",
    "print(f'Phim người dùng đã xem: {watched}')\n",
    "\n",
    "display(recommend_movies_for_user(watched, top_n=10))Top 10 phim được khuyến nghị:')"
   ]
  }
 ],
 "metadata": {
  "colab": {
   "machine_shape": "hm",
   "provenance": []
  },
  "kernelspec": {
   "display_name": "DS300-venv",
   "language": "python",
   "name": "python3"
  },
  "language_info": {
   "codemirror_mode": {
    "name": "ipython",
    "version": 3
   },
   "file_extension": ".py",
   "mimetype": "text/x-python",
   "name": "python",
   "nbconvert_exporter": "python",
   "pygments_lexer": "ipython3",
   "version": "3.12.0"
  }
 },
 "nbformat": 4,
 "nbformat_minor": 0
}
